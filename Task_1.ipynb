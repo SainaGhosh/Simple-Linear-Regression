{
  "nbformat": 4,
  "nbformat_minor": 0,
  "metadata": {
    "colab": {
      "name": "Task_1.ipynb",
      "provenance": []
    },
    "kernelspec": {
      "name": "python3",
      "display_name": "Python 3"
    }
  },
  "cells": [
    {
      "cell_type": "markdown",
      "metadata": {
        "id": "xxR2Jo1nIpR9"
      },
      "source": [
        "AUTHOR: SAINA GHOSH\r\n",
        "# Problem Statement: Task-1\r\n",
        "**Predict the percentage of students based on the number of study hours.**\r\n",
        "* Dataset: http://bit.ly/w-data \r\n"
      ]
    },
    {
      "cell_type": "code",
      "metadata": {
        "colab": {
          "base_uri": "https://localhost:8080/"
        },
        "id": "E7PzRNauNjYo",
        "outputId": "67b395e8-e3f5-4c8b-a11d-9d8e0320686d"
      },
      "source": [
        "#Importing the libraries\r\n",
        "import numpy as np\r\n",
        "import pandas as pd\r\n",
        "import matplotlib.pyplot as plt\r\n",
        "%matplotlib inline\r\n",
        "\r\n",
        "#Reading the csv file (data file)\r\n",
        "link = \"http://bit.ly/w-data\"\r\n",
        "read_data = pd.read_csv(link)\r\n",
        "print(\"Imported Successfully\")\r\n",
        "\r\n",
        "#Know the number of rows and columns of the data file\r\n",
        "read_data.shape"
      ],
      "execution_count": 1,
      "outputs": [
        {
          "output_type": "stream",
          "text": [
            "Imported Successfully\n"
          ],
          "name": "stdout"
        },
        {
          "output_type": "execute_result",
          "data": {
            "text/plain": [
              "(25, 2)"
            ]
          },
          "metadata": {
            "tags": []
          },
          "execution_count": 1
        }
      ]
    },
    {
      "cell_type": "markdown",
      "metadata": {
        "id": "lEDZz1hSRcj5"
      },
      "source": [
        "**Displaying The Data**"
      ]
    },
    {
      "cell_type": "code",
      "metadata": {
        "colab": {
          "base_uri": "https://localhost:8080/",
          "height": 824
        },
        "id": "o4d5Hk7SQ_HZ",
        "outputId": "e496d3eb-ea42-438a-a3be-e8e76f9b81f0"
      },
      "source": [
        "#Print the data as per the number of rows you get above\r\n",
        "read_data.head(25)"
      ],
      "execution_count": 2,
      "outputs": [
        {
          "output_type": "execute_result",
          "data": {
            "text/html": [
              "<div>\n",
              "<style scoped>\n",
              "    .dataframe tbody tr th:only-of-type {\n",
              "        vertical-align: middle;\n",
              "    }\n",
              "\n",
              "    .dataframe tbody tr th {\n",
              "        vertical-align: top;\n",
              "    }\n",
              "\n",
              "    .dataframe thead th {\n",
              "        text-align: right;\n",
              "    }\n",
              "</style>\n",
              "<table border=\"1\" class=\"dataframe\">\n",
              "  <thead>\n",
              "    <tr style=\"text-align: right;\">\n",
              "      <th></th>\n",
              "      <th>Hours</th>\n",
              "      <th>Scores</th>\n",
              "    </tr>\n",
              "  </thead>\n",
              "  <tbody>\n",
              "    <tr>\n",
              "      <th>0</th>\n",
              "      <td>2.5</td>\n",
              "      <td>21</td>\n",
              "    </tr>\n",
              "    <tr>\n",
              "      <th>1</th>\n",
              "      <td>5.1</td>\n",
              "      <td>47</td>\n",
              "    </tr>\n",
              "    <tr>\n",
              "      <th>2</th>\n",
              "      <td>3.2</td>\n",
              "      <td>27</td>\n",
              "    </tr>\n",
              "    <tr>\n",
              "      <th>3</th>\n",
              "      <td>8.5</td>\n",
              "      <td>75</td>\n",
              "    </tr>\n",
              "    <tr>\n",
              "      <th>4</th>\n",
              "      <td>3.5</td>\n",
              "      <td>30</td>\n",
              "    </tr>\n",
              "    <tr>\n",
              "      <th>5</th>\n",
              "      <td>1.5</td>\n",
              "      <td>20</td>\n",
              "    </tr>\n",
              "    <tr>\n",
              "      <th>6</th>\n",
              "      <td>9.2</td>\n",
              "      <td>88</td>\n",
              "    </tr>\n",
              "    <tr>\n",
              "      <th>7</th>\n",
              "      <td>5.5</td>\n",
              "      <td>60</td>\n",
              "    </tr>\n",
              "    <tr>\n",
              "      <th>8</th>\n",
              "      <td>8.3</td>\n",
              "      <td>81</td>\n",
              "    </tr>\n",
              "    <tr>\n",
              "      <th>9</th>\n",
              "      <td>2.7</td>\n",
              "      <td>25</td>\n",
              "    </tr>\n",
              "    <tr>\n",
              "      <th>10</th>\n",
              "      <td>7.7</td>\n",
              "      <td>85</td>\n",
              "    </tr>\n",
              "    <tr>\n",
              "      <th>11</th>\n",
              "      <td>5.9</td>\n",
              "      <td>62</td>\n",
              "    </tr>\n",
              "    <tr>\n",
              "      <th>12</th>\n",
              "      <td>4.5</td>\n",
              "      <td>41</td>\n",
              "    </tr>\n",
              "    <tr>\n",
              "      <th>13</th>\n",
              "      <td>3.3</td>\n",
              "      <td>42</td>\n",
              "    </tr>\n",
              "    <tr>\n",
              "      <th>14</th>\n",
              "      <td>1.1</td>\n",
              "      <td>17</td>\n",
              "    </tr>\n",
              "    <tr>\n",
              "      <th>15</th>\n",
              "      <td>8.9</td>\n",
              "      <td>95</td>\n",
              "    </tr>\n",
              "    <tr>\n",
              "      <th>16</th>\n",
              "      <td>2.5</td>\n",
              "      <td>30</td>\n",
              "    </tr>\n",
              "    <tr>\n",
              "      <th>17</th>\n",
              "      <td>1.9</td>\n",
              "      <td>24</td>\n",
              "    </tr>\n",
              "    <tr>\n",
              "      <th>18</th>\n",
              "      <td>6.1</td>\n",
              "      <td>67</td>\n",
              "    </tr>\n",
              "    <tr>\n",
              "      <th>19</th>\n",
              "      <td>7.4</td>\n",
              "      <td>69</td>\n",
              "    </tr>\n",
              "    <tr>\n",
              "      <th>20</th>\n",
              "      <td>2.7</td>\n",
              "      <td>30</td>\n",
              "    </tr>\n",
              "    <tr>\n",
              "      <th>21</th>\n",
              "      <td>4.8</td>\n",
              "      <td>54</td>\n",
              "    </tr>\n",
              "    <tr>\n",
              "      <th>22</th>\n",
              "      <td>3.8</td>\n",
              "      <td>35</td>\n",
              "    </tr>\n",
              "    <tr>\n",
              "      <th>23</th>\n",
              "      <td>6.9</td>\n",
              "      <td>76</td>\n",
              "    </tr>\n",
              "    <tr>\n",
              "      <th>24</th>\n",
              "      <td>7.8</td>\n",
              "      <td>86</td>\n",
              "    </tr>\n",
              "  </tbody>\n",
              "</table>\n",
              "</div>"
            ],
            "text/plain": [
              "    Hours  Scores\n",
              "0     2.5      21\n",
              "1     5.1      47\n",
              "2     3.2      27\n",
              "3     8.5      75\n",
              "4     3.5      30\n",
              "5     1.5      20\n",
              "6     9.2      88\n",
              "7     5.5      60\n",
              "8     8.3      81\n",
              "9     2.7      25\n",
              "10    7.7      85\n",
              "11    5.9      62\n",
              "12    4.5      41\n",
              "13    3.3      42\n",
              "14    1.1      17\n",
              "15    8.9      95\n",
              "16    2.5      30\n",
              "17    1.9      24\n",
              "18    6.1      67\n",
              "19    7.4      69\n",
              "20    2.7      30\n",
              "21    4.8      54\n",
              "22    3.8      35\n",
              "23    6.9      76\n",
              "24    7.8      86"
            ]
          },
          "metadata": {
            "tags": []
          },
          "execution_count": 2
        }
      ]
    },
    {
      "cell_type": "markdown",
      "metadata": {
        "id": "2mfML7IwTtXi"
      },
      "source": [
        "**Visualizing The Data**"
      ]
    },
    {
      "cell_type": "code",
      "metadata": {
        "colab": {
          "base_uri": "https://localhost:8080/",
          "height": 295
        },
        "id": "BATKi31CT9x7",
        "outputId": "b4af7088-dd4f-41df-bba1-15743c759cb8"
      },
      "source": [
        "x = list(read_data['Hours'])\r\n",
        "y = list(read_data['Scores'])\r\n",
        "plt.scatter(x, y, c='green', s=100, alpha=0.7)\r\n",
        "plt.xlabel('Hours Studied by the Student')\r\n",
        "plt.ylabel('Percentage obtained by the Student')\r\n",
        "plt.title('Hours Vs Percentage')\r\n",
        "plt.show()"
      ],
      "execution_count": 3,
      "outputs": [
        {
          "output_type": "display_data",
          "data": {
            "image/png": "[encoded data removed]",
            "text/plain": [
              "<Figure size 432x288 with 1 Axes>"
            ]
          },
          "metadata": {
            "tags": [],
            "needs_background": "light"
          }
        }
      ]
    },
    {
      "cell_type": "markdown",
      "metadata": {
        "id": "HeolP2QUZFBT"
      },
      "source": [
        "**Preparing the Data**\r\n",
        ">KFold cross validation is used for distributing the data into training set and test set.\r\n",
        "\r\n",
        "\r\n"
      ]
    },
    {
      "cell_type": "code",
      "metadata": {
        "id": "JZ63-ZX3ZY4C"
      },
      "source": [
        "from sklearn.model_selection import KFold \r\n",
        "dataX = read_data.iloc[:, :-1].values  \r\n",
        "dataY = read_data.iloc[:, 1].values  \r\n",
        "#prepare cross validatation\r\n",
        "kfold=KFold(5,shuffle=True,random_state=1)\r\n",
        "#enumerate splits\r\n",
        "for train_ix, test_ix in kfold.split(dataX):\r\n",
        "  #select rows for train and test\r\n",
        "  trainX,trainY,testX,testY = dataX[train_ix],dataY[train_ix],dataX[test_ix],dataY[test_ix]\r\n"
      ],
      "execution_count": 4,
      "outputs": []
    },
    {
      "cell_type": "markdown",
      "metadata": {
        "id": "ou2fc10qtkdN"
      },
      "source": [
        "**Training the Data**"
      ]
    },
    {
      "cell_type": "code",
      "metadata": {
        "colab": {
          "base_uri": "https://localhost:8080/"
        },
        "id": "IO-5ZHQZtrS1",
        "outputId": "dfbc470b-94ae-4f15-acf7-1ac0ea167dff"
      },
      "source": [
        "from sklearn.linear_model import LinearRegression  \r\n",
        "#define model\r\n",
        "model=LinearRegression()\r\n",
        "#fit model\r\n",
        "model.fit(trainX,trainY)\r\n",
        "print(\"Training Complete\")"
      ],
      "execution_count": 6,
      "outputs": [
        {
          "output_type": "stream",
          "text": [
            "Training Complete\n"
          ],
          "name": "stdout"
        }
      ]
    },
    {
      "cell_type": "markdown",
      "metadata": {
        "id": "lSmP9qxXB3Hp"
      },
      "source": [
        "**Equation to plot the regression line**\r\n",
        "\r\n",
        "> Y = mX + c\r\n",
        "\r\n",
        "* y --> dependant variable\r\n",
        "* m --> slope of line\r\n",
        "* X --> independant variable\r\n",
        "* c --> y-intercept\r\n",
        "\r\n",
        "\r\n"
      ]
    },
    {
      "cell_type": "code",
      "metadata": {
        "colab": {
          "base_uri": "https://localhost:8080/",
          "height": 265
        },
        "id": "PlVP1rNGBKTB",
        "outputId": "90297622-53d6-4ef0-e719-6dba34b1b3c9"
      },
      "source": [
        "line = model.coef_*dataX + model.intercept_\r\n",
        "\r\n",
        "# Plotting for the test data\r\n",
        "plt.scatter(dataX, dataY, c='hotpink', s=100, alpha=0.7)\r\n",
        "plt.plot(dataX, line);\r\n",
        "plt.show()"
      ],
      "execution_count": 7,
      "outputs": [
        {
          "output_type": "display_data",
          "data": {
            "image/png": "[encoded data removed]",
            "text/plain": [
              "<Figure size 432x288 with 1 Axes>"
            ]
          },
          "metadata": {
            "tags": [],
            "needs_background": "light"
          }
        }
      ]
    },
    {
      "cell_type": "markdown",
      "metadata": {
        "id": "JTTA_T5yaLuj"
      },
      "source": [
        "**Predicting the Data**"
      ]
    },
    {
      "cell_type": "code",
      "metadata": {
        "colab": {
          "base_uri": "https://localhost:8080/"
        },
        "id": "8NyHEV23aqyr",
        "outputId": "67e58d5e-151b-4270-8ce0-e0c5a533eac1"
      },
      "source": [
        "#Displaying the test data that would be used for prediction\r\n",
        "print(testX)\r\n",
        "pred_Y = model.predict(testX)\r\n"
      ],
      "execution_count": 8,
      "outputs": [
        {
          "output_type": "stream",
          "text": [
            "[[1.5]\n",
            " [8.3]\n",
            " [2.7]\n",
            " [5.9]\n",
            " [4.5]]\n"
          ],
          "name": "stdout"
        }
      ]
    },
    {
      "cell_type": "code",
      "metadata": {
        "colab": {
          "base_uri": "https://localhost:8080/",
          "height": 204
        },
        "id": "Ga3kCNUihq-c",
        "outputId": "0bb14958-fb14-465b-a686-b301308a4b25"
      },
      "source": [
        "#Changing the dimension of the test data and storing in another variable \r\n",
        "import copy\r\n",
        "t_X = copy.deepcopy(testX)\r\n",
        "t_X.shape=(5,)\r\n",
        "\r\n",
        "#Displaying the difference between the actual output and predicted output\r\n",
        "df = pd.DataFrame({'Hours':t_X, 'Actual Percentage': testY, 'Predicted Percentage': pred_Y})  \r\n",
        "df"
      ],
      "execution_count": 9,
      "outputs": [
        {
          "output_type": "execute_result",
          "data": {
            "text/html": [
              "<div>\n",
              "<style scoped>\n",
              "    .dataframe tbody tr th:only-of-type {\n",
              "        vertical-align: middle;\n",
              "    }\n",
              "\n",
              "    .dataframe tbody tr th {\n",
              "        vertical-align: top;\n",
              "    }\n",
              "\n",
              "    .dataframe thead th {\n",
              "        text-align: right;\n",
              "    }\n",
              "</style>\n",
              "<table border=\"1\" class=\"dataframe\">\n",
              "  <thead>\n",
              "    <tr style=\"text-align: right;\">\n",
              "      <th></th>\n",
              "      <th>Hours</th>\n",
              "      <th>Actual Percentage</th>\n",
              "      <th>Predicted Percentage</th>\n",
              "    </tr>\n",
              "  </thead>\n",
              "  <tbody>\n",
              "    <tr>\n",
              "      <th>0</th>\n",
              "      <td>1.5</td>\n",
              "      <td>20</td>\n",
              "      <td>17.380813</td>\n",
              "    </tr>\n",
              "    <tr>\n",
              "      <th>1</th>\n",
              "      <td>8.3</td>\n",
              "      <td>81</td>\n",
              "      <td>84.101937</td>\n",
              "    </tr>\n",
              "    <tr>\n",
              "      <th>2</th>\n",
              "      <td>2.7</td>\n",
              "      <td>25</td>\n",
              "      <td>29.155129</td>\n",
              "    </tr>\n",
              "    <tr>\n",
              "      <th>3</th>\n",
              "      <td>5.9</td>\n",
              "      <td>62</td>\n",
              "      <td>60.553305</td>\n",
              "    </tr>\n",
              "    <tr>\n",
              "      <th>4</th>\n",
              "      <td>4.5</td>\n",
              "      <td>41</td>\n",
              "      <td>46.816603</td>\n",
              "    </tr>\n",
              "  </tbody>\n",
              "</table>\n",
              "</div>"
            ],
            "text/plain": [
              "   Hours  Actual Percentage  Predicted Percentage\n",
              "0    1.5                 20             17.380813\n",
              "1    8.3                 81             84.101937\n",
              "2    2.7                 25             29.155129\n",
              "3    5.9                 62             60.553305\n",
              "4    4.5                 41             46.816603"
            ]
          },
          "metadata": {
            "tags": []
          },
          "execution_count": 9
        }
      ]
    },
    {
      "cell_type": "markdown",
      "metadata": {
        "id": "Ily37CuVi-5y"
      },
      "source": [
        "**Testing the predictions on manually inserted data**"
      ]
    },
    {
      "cell_type": "code",
      "metadata": {
        "colab": {
          "base_uri": "https://localhost:8080/"
        },
        "id": "Z6spzPg3jKry",
        "outputId": "d7f4d72d-848b-4550-99a7-76ff60a0570c"
      },
      "source": [
        "h = np.array([[8.8]])\r\n",
        "p = model.predict(h)\r\n",
        "print('Hours: ', int(h) , ' --->  Predicted Percentage: ', int(p))"
      ],
      "execution_count": 10,
      "outputs": [
        {
          "output_type": "stream",
          "text": [
            "Hours:  8  --->  Predicted Percentage:  89\n"
          ],
          "name": "stdout"
        }
      ]
    },
    {
      "cell_type": "markdown",
      "metadata": {
        "id": "Js088XCCmfGK"
      },
      "source": [
        "**Model Evaluation**"
      ]
    },
    {
      "cell_type": "code",
      "metadata": {
        "colab": {
          "base_uri": "https://localhost:8080/"
        },
        "id": "p-hqCX4gmmEg",
        "outputId": "ffe40be9-0e50-42c5-a691-ee5d77d73c84"
      },
      "source": [
        "# Calculation of Mean Squared Error (MSE) \r\n",
        "from sklearn.metrics import mean_squared_error \r\n",
        "print(\"Mean Squared Error: {:.2f}\".format(mean_squared_error(testY,pred_Y))) "
      ],
      "execution_count": 11,
      "outputs": [
        {
          "output_type": "stream",
          "text": [
            "Mean Squared Error: 13.93\n"
          ],
          "name": "stdout"
        }
      ]
    },
    {
      "cell_type": "code",
      "metadata": {
        "colab": {
          "base_uri": "https://localhost:8080/"
        },
        "id": "v4gSBnIPwZ5M",
        "outputId": "0447b849-fb32-427e-f50b-1faff723ed99"
      },
      "source": [
        "# Calculation of Root Mean Squared Error (RMSE) \r\n",
        "from sklearn.metrics import mean_squared_error\r\n",
        "print(\"Root Mean Squared Error: {:.2f}\".format(np.sqrt(mean_squared_error(testY,pred_Y))))"
      ],
      "execution_count": 12,
      "outputs": [
        {
          "output_type": "stream",
          "text": [
            "Root Mean Squared Error: 3.73\n"
          ],
          "name": "stdout"
        }
      ]
    },
    {
      "cell_type": "code",
      "metadata": {
        "colab": {
          "base_uri": "https://localhost:8080/"
        },
        "id": "jagwvUkdsfEx",
        "outputId": "c5383bc2-fc52-4f5c-ed5b-b7b64015d5b4"
      },
      "source": [
        "# Calculation of Mean Absolute Error (MAE) \r\n",
        "from sklearn import metrics  \r\n",
        "print(\"Mean Absolute Error: {:.2f}\".format(metrics.mean_absolute_error(testY,pred_Y)))"
      ],
      "execution_count": 13,
      "outputs": [
        {
          "output_type": "stream",
          "text": [
            "Mean Absolute Error: 3.43\n"
          ],
          "name": "stdout"
        }
      ]
    }
  ]
}